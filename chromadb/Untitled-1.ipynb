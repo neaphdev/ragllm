{
 "cells": [
  {
   "cell_type": "code",
   "execution_count": null,
   "metadata": {},
   "outputs": [
    {
     "name": "stdout",
     "output_type": "stream",
     "text": [
      "Conecting to api llm ...\n",
      "Connected to api llm\n"
     ]
    }
   ],
   "source": [
    "import chromadb\n",
    "from chromadb.config import Settings\n",
    "from chromadb.utils import embedding_functions  # Add this import\n",
    "# Create an embedding function\n",
    "# Option 1: API-based embeddings (using your custom endpoint)\n",
    "# Note: Make sure your API endpoint supports embedding generation, not just chat completions\n",
    "\n",
    "print(\"Conecting to api llm ...\")\n",
    "custom_ef = embedding_functions.OpenAIEmbeddingFunction(\n",
    "    api_base=\"https://api.awanllm.com/v1\",  # Base URL for the API\n",
    "    api_key=input(\"Use your key\"),  # Your API key\n",
    "    model_name=\"Meta-Llama-3.1-70B-Instruct\"  # The model you specified\n",
    ")\n",
    "print(\"Connected to api llm\")\n",
    "\n",
    "# Choose which embedding function to use\n",
    "embedding_function = custom_ef  # Change to custom_ef if your API supports embeddings\n",
    "\n",
    "# Initialize the ChromaDB client\n",
    "chroma_client = chromadb.HttpClient(\n",
    "    host='localhost',  # Use 'host.docker.internal' if running in a Docker container\n",
    "    port=8000,\n",
    "    settings=Settings()\n",
    ")\n",
    "print(\"Connected to chroma\")"
   ]
  },
  {
   "cell_type": "code",
   "execution_count": 10,
   "metadata": {},
   "outputs": [
    {
     "name": "stdout",
     "output_type": "stream",
     "text": [
      "Found existing installation: numpy 2.2.4\n",
      "Uninstalling numpy-2.2.4:\n",
      "  Successfully uninstalled numpy-2.2.4\n",
      "Note: you may need to restart the kernel to use updated packages.\n"
     ]
    },
    {
     "name": "stderr",
     "output_type": "stream",
     "text": [
      "The system cannot find the path specified.\n"
     ]
    },
    {
     "name": "stdout",
     "output_type": "stream",
     "text": [
      "Collecting numpy\n",
      "  Using cached numpy-2.2.4-cp311-cp311-win_amd64.whl.metadata (60 kB)\n",
      "Using cached numpy-2.2.4-cp311-cp311-win_amd64.whl (12.9 MB)\n",
      "Installing collected packages: numpy\n",
      "Successfully installed numpy-2.2.4\n",
      "Note: you may need to restart the kernel to use updated packages.\n"
     ]
    },
    {
     "name": "stderr",
     "output_type": "stream",
     "text": [
      "The system cannot find the path specified.\n"
     ]
    }
   ],
   "source": [
    "%pip uninstall -y numpy\n",
    "%pip install numpy"
   ]
  },
  {
   "cell_type": "code",
   "execution_count": null,
   "metadata": {},
   "outputs": [],
   "source": [
    "# Create a new collection\n",
    "collection = chroma_client.create_collection(\n",
    "    name='test_collection2',\n",
    "    embedding_function=embedding_function  # Pass the embedding function here\n",
    ")\n",
    "\n",
    "# Add a document to the collection\n",
    "collection.add(\n",
    "    ids=['1', '2', '3'],\n",
    "    documents=[\n",
    "        'This is the first document',\n",
    "        'This is the second document',\n",
    "        'This is the third document',\n",
    "    ]\n",
    ")\n"
   ]
  },
  {
   "cell_type": "code",
   "execution_count": 2,
   "metadata": {},
   "outputs": [
    {
     "ename": "NameError",
     "evalue": "name 'collection' is not defined",
     "output_type": "error",
     "traceback": [
      "\u001b[31m---------------------------------------------------------------------------\u001b[39m",
      "\u001b[31mNameError\u001b[39m                                 Traceback (most recent call last)",
      "\u001b[36mCell\u001b[39m\u001b[36m \u001b[39m\u001b[32mIn[2]\u001b[39m\u001b[32m, line 2\u001b[39m\n\u001b[32m      1\u001b[39m \u001b[38;5;66;03m# Search for documents similar to the first document\u001b[39;00m\n\u001b[32m----> \u001b[39m\u001b[32m2\u001b[39m similar_documents = \u001b[43mcollection\u001b[49m.query(\n\u001b[32m      3\u001b[39m     query_texts=[\u001b[33m'\u001b[39m\u001b[33mThis is the first document\u001b[39m\u001b[33m'\u001b[39m],\n\u001b[32m      4\u001b[39m     n_results=\u001b[32m2\u001b[39m,\n\u001b[32m      5\u001b[39m     include=[\u001b[33m\"\u001b[39m\u001b[33mdocuments\u001b[39m\u001b[33m\"\u001b[39m]\n\u001b[32m      6\u001b[39m )\n\u001b[32m      8\u001b[39m \u001b[38;5;28mprint\u001b[39m(similar_documents)\n",
      "\u001b[31mNameError\u001b[39m: name 'collection' is not defined"
     ]
    }
   ],
   "source": [
    "# Search for documents similar to the first document\n",
    "similar_documents = collection.query(\n",
    "    query_texts=['This is the first document'],\n",
    "    n_results=2,\n",
    "    include=[\"documents\"]\n",
    ")\n",
    "\n",
    "print(similar_documents)"
   ]
  },
  {
   "cell_type": "code",
   "execution_count": null,
   "metadata": {},
   "outputs": [
    {
     "name": "stdout",
     "output_type": "stream",
     "text": [
      "{'ids': [['1', '2', '3']], 'distances': None, 'embeddings': None, 'metadatas': None, 'documents': None, 'uris': None, 'data': None, 'included': []}\n"
     ]
    }
   ],
   "source": [
    "# First, get a reference to an existing collection\n",
    "collection = chroma_client.get_collection(name=\"test_collection2\")\n",
    "\n",
    "# Then query the collection\n",
    "results = collection.query(\n",
    "    query_texts=[\"can you provide me 1rst document\"],\n",
    "    n_results=5,\n",
    "    include=[]\n",
    ")\n",
    "\n",
    "print(results)"
   ]
  },
  {
   "cell_type": "code",
   "execution_count": 8,
   "metadata": {},
   "outputs": [
    {
     "data": {
      "text/plain": [
       "['test_collection2', 'test_collection']"
      ]
     },
     "execution_count": 8,
     "metadata": {},
     "output_type": "execute_result"
    }
   ],
   "source": [
    "chroma_client.list_collections()"
   ]
  }
 ],
 "metadata": {
  "kernelspec": {
   "display_name": ".conda",
   "language": "python",
   "name": "python3"
  },
  "language_info": {
   "codemirror_mode": {
    "name": "ipython",
    "version": 3
   },
   "file_extension": ".py",
   "mimetype": "text/x-python",
   "name": "python",
   "nbconvert_exporter": "python",
   "pygments_lexer": "ipython3",
   "version": "3.11.11"
  }
 },
 "nbformat": 4,
 "nbformat_minor": 2
}
